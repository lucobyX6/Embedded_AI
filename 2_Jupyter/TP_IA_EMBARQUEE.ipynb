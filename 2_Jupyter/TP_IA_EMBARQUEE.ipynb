{
  "nbformat": 4,
  "nbformat_minor": 0,
  "metadata": {
    "colab": {
      "provenance": []
    },
    "kernelspec": {
      "name": "python3",
      "display_name": "Python 3"
    },
    "language_info": {
      "name": "python"
    }
  },
  "cells": [
    {
      "cell_type": "markdown",
      "source": [
        "## **PRACTICAL SESSION 1** — Deep Learning for predictive maintenance"
      ],
      "metadata": {
        "id": "ZLQS0KLMycmb"
      }
    },
    {
      "cell_type": "markdown",
      "source": [
        "The dataset used is the **AI4I 2020** Predictive Maintenance Dataset, which contains 10,000 instances of industrial sensor data. Each instance represents the operating condition of a machine and is associated with a label indicating whether a failure has occurred and, if so, what type of failure it is.\n",
        "\n",
        "The 5 possible labels are:\n",
        "\n",
        "\n",
        "\n",
        "*   **TWF**: Tool Wear Failure\n",
        "*   **HDF**: Heat Dissipation Failure\n",
        "*   **PWF**: Power Failure\n",
        "*   **OSF**: Overstrain Failure\n",
        "*   **RNF**: Random Failure\n",
        "\n",
        "\n",
        "The data is available on eCAMPUS as CSV file called: \"ai4i2020.csv\"\n",
        "\n"
      ],
      "metadata": {
        "id": "3mjNAfgj4K1_"
      }
    },
    {
      "cell_type": "markdown",
      "source": [
        "## **PRACTICAL SESSION Goal** — Create a deep leanring model allowing to realize a predictive maintenance mission"
      ],
      "metadata": {
        "id": "4_LBMVsgRI9W"
      }
    },
    {
      "cell_type": "markdown",
      "source": [
        "## **1 - Analysis of the dataset**\n",
        "\n"
      ],
      "metadata": {
        "id": "wt7L0p4MbIIw"
      }
    },
    {
      "cell_type": "markdown",
      "source": [
        "All libraries used ***SHOULD BE PLACED*** in the code cell below"
      ],
      "metadata": {
        "id": "0JFIZ6mtRapt"
      }
    },
    {
      "cell_type": "code",
      "execution_count": 20,
      "metadata": {
        "id": "UQp7FGSb5Vlv"
      },
      "outputs": [],
      "source": [
        "import numpy as np\n",
        "import pandas as pd\n",
        "import matplotlib.pyplot as plt\n",
        "import tensorflow as tf\n",
        "from PIL import Image\n",
        "from sklearn.model_selection import train_test_split\n",
        "from sklearn.metrics import confusion_matrix, ConfusionMatrixDisplay"
      ]
    },
    {
      "cell_type": "markdown",
      "source": [
        "**QUESTION:** Load dataset and display some lines of the csv file."
      ],
      "metadata": {
        "id": "eFRcS74MDeSf"
      }
    },
    {
      "cell_type": "code",
      "source": [
        "from google.colab import drive\n",
        "drive.mount('/content/drive')\n",
        "\n",
        "data = pd.read_csv(\"/content/drive/MyDrive/Colab Notebooks/ai4i2020.csv\")\n",
        "\n",
        "data.head()"
      ],
      "metadata": {
        "id": "9l044FZ_5-fN",
        "colab": {
          "base_uri": "https://localhost:8080/",
          "height": 241
        },
        "outputId": "403b6f84-442d-48f4-e722-7bc57c94ae3f"
      },
      "execution_count": 3,
      "outputs": [
        {
          "output_type": "stream",
          "name": "stdout",
          "text": [
            "Drive already mounted at /content/drive; to attempt to forcibly remount, call drive.mount(\"/content/drive\", force_remount=True).\n"
          ]
        },
        {
          "output_type": "execute_result",
          "data": {
            "text/plain": [
              "   UDI Product ID Type  Air temperature [K]  Process temperature [K]  \\\n",
              "0    1     M14860    M                298.1                    308.6   \n",
              "1    2     L47181    L                298.2                    308.7   \n",
              "2    3     L47182    L                298.1                    308.5   \n",
              "3    4     L47183    L                298.2                    308.6   \n",
              "4    5     L47184    L                298.2                    308.7   \n",
              "\n",
              "   Rotational speed [rpm]  Torque [Nm]  Tool wear [min]  Machine failure  TWF  \\\n",
              "0                    1551         42.8                0                0    0   \n",
              "1                    1408         46.3                3                0    0   \n",
              "2                    1498         49.4                5                0    0   \n",
              "3                    1433         39.5                7                0    0   \n",
              "4                    1408         40.0                9                0    0   \n",
              "\n",
              "   HDF  PWF  OSF  RNF  \n",
              "0    0    0    0    0  \n",
              "1    0    0    0    0  \n",
              "2    0    0    0    0  \n",
              "3    0    0    0    0  \n",
              "4    0    0    0    0  "
            ],
            "text/html": [
              "\n",
              "  <div id=\"df-8f92441b-10b7-4a19-9b7e-c0616f50ebca\" class=\"colab-df-container\">\n",
              "    <div>\n",
              "<style scoped>\n",
              "    .dataframe tbody tr th:only-of-type {\n",
              "        vertical-align: middle;\n",
              "    }\n",
              "\n",
              "    .dataframe tbody tr th {\n",
              "        vertical-align: top;\n",
              "    }\n",
              "\n",
              "    .dataframe thead th {\n",
              "        text-align: right;\n",
              "    }\n",
              "</style>\n",
              "<table border=\"1\" class=\"dataframe\">\n",
              "  <thead>\n",
              "    <tr style=\"text-align: right;\">\n",
              "      <th></th>\n",
              "      <th>UDI</th>\n",
              "      <th>Product ID</th>\n",
              "      <th>Type</th>\n",
              "      <th>Air temperature [K]</th>\n",
              "      <th>Process temperature [K]</th>\n",
              "      <th>Rotational speed [rpm]</th>\n",
              "      <th>Torque [Nm]</th>\n",
              "      <th>Tool wear [min]</th>\n",
              "      <th>Machine failure</th>\n",
              "      <th>TWF</th>\n",
              "      <th>HDF</th>\n",
              "      <th>PWF</th>\n",
              "      <th>OSF</th>\n",
              "      <th>RNF</th>\n",
              "    </tr>\n",
              "  </thead>\n",
              "  <tbody>\n",
              "    <tr>\n",
              "      <th>0</th>\n",
              "      <td>1</td>\n",
              "      <td>M14860</td>\n",
              "      <td>M</td>\n",
              "      <td>298.1</td>\n",
              "      <td>308.6</td>\n",
              "      <td>1551</td>\n",
              "      <td>42.8</td>\n",
              "      <td>0</td>\n",
              "      <td>0</td>\n",
              "      <td>0</td>\n",
              "      <td>0</td>\n",
              "      <td>0</td>\n",
              "      <td>0</td>\n",
              "      <td>0</td>\n",
              "    </tr>\n",
              "    <tr>\n",
              "      <th>1</th>\n",
              "      <td>2</td>\n",
              "      <td>L47181</td>\n",
              "      <td>L</td>\n",
              "      <td>298.2</td>\n",
              "      <td>308.7</td>\n",
              "      <td>1408</td>\n",
              "      <td>46.3</td>\n",
              "      <td>3</td>\n",
              "      <td>0</td>\n",
              "      <td>0</td>\n",
              "      <td>0</td>\n",
              "      <td>0</td>\n",
              "      <td>0</td>\n",
              "      <td>0</td>\n",
              "    </tr>\n",
              "    <tr>\n",
              "      <th>2</th>\n",
              "      <td>3</td>\n",
              "      <td>L47182</td>\n",
              "      <td>L</td>\n",
              "      <td>298.1</td>\n",
              "      <td>308.5</td>\n",
              "      <td>1498</td>\n",
              "      <td>49.4</td>\n",
              "      <td>5</td>\n",
              "      <td>0</td>\n",
              "      <td>0</td>\n",
              "      <td>0</td>\n",
              "      <td>0</td>\n",
              "      <td>0</td>\n",
              "      <td>0</td>\n",
              "    </tr>\n",
              "    <tr>\n",
              "      <th>3</th>\n",
              "      <td>4</td>\n",
              "      <td>L47183</td>\n",
              "      <td>L</td>\n",
              "      <td>298.2</td>\n",
              "      <td>308.6</td>\n",
              "      <td>1433</td>\n",
              "      <td>39.5</td>\n",
              "      <td>7</td>\n",
              "      <td>0</td>\n",
              "      <td>0</td>\n",
              "      <td>0</td>\n",
              "      <td>0</td>\n",
              "      <td>0</td>\n",
              "      <td>0</td>\n",
              "    </tr>\n",
              "    <tr>\n",
              "      <th>4</th>\n",
              "      <td>5</td>\n",
              "      <td>L47184</td>\n",
              "      <td>L</td>\n",
              "      <td>298.2</td>\n",
              "      <td>308.7</td>\n",
              "      <td>1408</td>\n",
              "      <td>40.0</td>\n",
              "      <td>9</td>\n",
              "      <td>0</td>\n",
              "      <td>0</td>\n",
              "      <td>0</td>\n",
              "      <td>0</td>\n",
              "      <td>0</td>\n",
              "      <td>0</td>\n",
              "    </tr>\n",
              "  </tbody>\n",
              "</table>\n",
              "</div>\n",
              "    <div class=\"colab-df-buttons\">\n",
              "\n",
              "  <div class=\"colab-df-container\">\n",
              "    <button class=\"colab-df-convert\" onclick=\"convertToInteractive('df-8f92441b-10b7-4a19-9b7e-c0616f50ebca')\"\n",
              "            title=\"Convert this dataframe to an interactive table.\"\n",
              "            style=\"display:none;\">\n",
              "\n",
              "  <svg xmlns=\"http://www.w3.org/2000/svg\" height=\"24px\" viewBox=\"0 -960 960 960\">\n",
              "    <path d=\"M120-120v-720h720v720H120Zm60-500h600v-160H180v160Zm220 220h160v-160H400v160Zm0 220h160v-160H400v160ZM180-400h160v-160H180v160Zm440 0h160v-160H620v160ZM180-180h160v-160H180v160Zm440 0h160v-160H620v160Z\"/>\n",
              "  </svg>\n",
              "    </button>\n",
              "\n",
              "  <style>\n",
              "    .colab-df-container {\n",
              "      display:flex;\n",
              "      gap: 12px;\n",
              "    }\n",
              "\n",
              "    .colab-df-convert {\n",
              "      background-color: #E8F0FE;\n",
              "      border: none;\n",
              "      border-radius: 50%;\n",
              "      cursor: pointer;\n",
              "      display: none;\n",
              "      fill: #1967D2;\n",
              "      height: 32px;\n",
              "      padding: 0 0 0 0;\n",
              "      width: 32px;\n",
              "    }\n",
              "\n",
              "    .colab-df-convert:hover {\n",
              "      background-color: #E2EBFA;\n",
              "      box-shadow: 0px 1px 2px rgba(60, 64, 67, 0.3), 0px 1px 3px 1px rgba(60, 64, 67, 0.15);\n",
              "      fill: #174EA6;\n",
              "    }\n",
              "\n",
              "    .colab-df-buttons div {\n",
              "      margin-bottom: 4px;\n",
              "    }\n",
              "\n",
              "    [theme=dark] .colab-df-convert {\n",
              "      background-color: #3B4455;\n",
              "      fill: #D2E3FC;\n",
              "    }\n",
              "\n",
              "    [theme=dark] .colab-df-convert:hover {\n",
              "      background-color: #434B5C;\n",
              "      box-shadow: 0px 1px 3px 1px rgba(0, 0, 0, 0.15);\n",
              "      filter: drop-shadow(0px 1px 2px rgba(0, 0, 0, 0.3));\n",
              "      fill: #FFFFFF;\n",
              "    }\n",
              "  </style>\n",
              "\n",
              "    <script>\n",
              "      const buttonEl =\n",
              "        document.querySelector('#df-8f92441b-10b7-4a19-9b7e-c0616f50ebca button.colab-df-convert');\n",
              "      buttonEl.style.display =\n",
              "        google.colab.kernel.accessAllowed ? 'block' : 'none';\n",
              "\n",
              "      async function convertToInteractive(key) {\n",
              "        const element = document.querySelector('#df-8f92441b-10b7-4a19-9b7e-c0616f50ebca');\n",
              "        const dataTable =\n",
              "          await google.colab.kernel.invokeFunction('convertToInteractive',\n",
              "                                                    [key], {});\n",
              "        if (!dataTable) return;\n",
              "\n",
              "        const docLinkHtml = 'Like what you see? Visit the ' +\n",
              "          '<a target=\"_blank\" href=https://colab.research.google.com/notebooks/data_table.ipynb>data table notebook</a>'\n",
              "          + ' to learn more about interactive tables.';\n",
              "        element.innerHTML = '';\n",
              "        dataTable['output_type'] = 'display_data';\n",
              "        await google.colab.output.renderOutput(dataTable, element);\n",
              "        const docLink = document.createElement('div');\n",
              "        docLink.innerHTML = docLinkHtml;\n",
              "        element.appendChild(docLink);\n",
              "      }\n",
              "    </script>\n",
              "  </div>\n",
              "\n",
              "\n",
              "<div id=\"df-dabe4756-aa56-43c0-8044-dacb6611d46d\">\n",
              "  <button class=\"colab-df-quickchart\" onclick=\"quickchart('df-dabe4756-aa56-43c0-8044-dacb6611d46d')\"\n",
              "            title=\"Suggest charts\"\n",
              "            style=\"display:none;\">\n",
              "\n",
              "<svg xmlns=\"http://www.w3.org/2000/svg\" height=\"24px\"viewBox=\"0 0 24 24\"\n",
              "     width=\"24px\">\n",
              "    <g>\n",
              "        <path d=\"M19 3H5c-1.1 0-2 .9-2 2v14c0 1.1.9 2 2 2h14c1.1 0 2-.9 2-2V5c0-1.1-.9-2-2-2zM9 17H7v-7h2v7zm4 0h-2V7h2v10zm4 0h-2v-4h2v4z\"/>\n",
              "    </g>\n",
              "</svg>\n",
              "  </button>\n",
              "\n",
              "<style>\n",
              "  .colab-df-quickchart {\n",
              "      --bg-color: #E8F0FE;\n",
              "      --fill-color: #1967D2;\n",
              "      --hover-bg-color: #E2EBFA;\n",
              "      --hover-fill-color: #174EA6;\n",
              "      --disabled-fill-color: #AAA;\n",
              "      --disabled-bg-color: #DDD;\n",
              "  }\n",
              "\n",
              "  [theme=dark] .colab-df-quickchart {\n",
              "      --bg-color: #3B4455;\n",
              "      --fill-color: #D2E3FC;\n",
              "      --hover-bg-color: #434B5C;\n",
              "      --hover-fill-color: #FFFFFF;\n",
              "      --disabled-bg-color: #3B4455;\n",
              "      --disabled-fill-color: #666;\n",
              "  }\n",
              "\n",
              "  .colab-df-quickchart {\n",
              "    background-color: var(--bg-color);\n",
              "    border: none;\n",
              "    border-radius: 50%;\n",
              "    cursor: pointer;\n",
              "    display: none;\n",
              "    fill: var(--fill-color);\n",
              "    height: 32px;\n",
              "    padding: 0;\n",
              "    width: 32px;\n",
              "  }\n",
              "\n",
              "  .colab-df-quickchart:hover {\n",
              "    background-color: var(--hover-bg-color);\n",
              "    box-shadow: 0 1px 2px rgba(60, 64, 67, 0.3), 0 1px 3px 1px rgba(60, 64, 67, 0.15);\n",
              "    fill: var(--button-hover-fill-color);\n",
              "  }\n",
              "\n",
              "  .colab-df-quickchart-complete:disabled,\n",
              "  .colab-df-quickchart-complete:disabled:hover {\n",
              "    background-color: var(--disabled-bg-color);\n",
              "    fill: var(--disabled-fill-color);\n",
              "    box-shadow: none;\n",
              "  }\n",
              "\n",
              "  .colab-df-spinner {\n",
              "    border: 2px solid var(--fill-color);\n",
              "    border-color: transparent;\n",
              "    border-bottom-color: var(--fill-color);\n",
              "    animation:\n",
              "      spin 1s steps(1) infinite;\n",
              "  }\n",
              "\n",
              "  @keyframes spin {\n",
              "    0% {\n",
              "      border-color: transparent;\n",
              "      border-bottom-color: var(--fill-color);\n",
              "      border-left-color: var(--fill-color);\n",
              "    }\n",
              "    20% {\n",
              "      border-color: transparent;\n",
              "      border-left-color: var(--fill-color);\n",
              "      border-top-color: var(--fill-color);\n",
              "    }\n",
              "    30% {\n",
              "      border-color: transparent;\n",
              "      border-left-color: var(--fill-color);\n",
              "      border-top-color: var(--fill-color);\n",
              "      border-right-color: var(--fill-color);\n",
              "    }\n",
              "    40% {\n",
              "      border-color: transparent;\n",
              "      border-right-color: var(--fill-color);\n",
              "      border-top-color: var(--fill-color);\n",
              "    }\n",
              "    60% {\n",
              "      border-color: transparent;\n",
              "      border-right-color: var(--fill-color);\n",
              "    }\n",
              "    80% {\n",
              "      border-color: transparent;\n",
              "      border-right-color: var(--fill-color);\n",
              "      border-bottom-color: var(--fill-color);\n",
              "    }\n",
              "    90% {\n",
              "      border-color: transparent;\n",
              "      border-bottom-color: var(--fill-color);\n",
              "    }\n",
              "  }\n",
              "</style>\n",
              "\n",
              "  <script>\n",
              "    async function quickchart(key) {\n",
              "      const quickchartButtonEl =\n",
              "        document.querySelector('#' + key + ' button');\n",
              "      quickchartButtonEl.disabled = true;  // To prevent multiple clicks.\n",
              "      quickchartButtonEl.classList.add('colab-df-spinner');\n",
              "      try {\n",
              "        const charts = await google.colab.kernel.invokeFunction(\n",
              "            'suggestCharts', [key], {});\n",
              "      } catch (error) {\n",
              "        console.error('Error during call to suggestCharts:', error);\n",
              "      }\n",
              "      quickchartButtonEl.classList.remove('colab-df-spinner');\n",
              "      quickchartButtonEl.classList.add('colab-df-quickchart-complete');\n",
              "    }\n",
              "    (() => {\n",
              "      let quickchartButtonEl =\n",
              "        document.querySelector('#df-dabe4756-aa56-43c0-8044-dacb6611d46d button');\n",
              "      quickchartButtonEl.style.display =\n",
              "        google.colab.kernel.accessAllowed ? 'block' : 'none';\n",
              "    })();\n",
              "  </script>\n",
              "</div>\n",
              "\n",
              "    </div>\n",
              "  </div>\n"
            ],
            "application/vnd.google.colaboratory.intrinsic+json": {
              "type": "dataframe",
              "variable_name": "data",
              "summary": "{\n  \"name\": \"data\",\n  \"rows\": 10000,\n  \"fields\": [\n    {\n      \"column\": \"UDI\",\n      \"properties\": {\n        \"dtype\": \"number\",\n        \"std\": 2886,\n        \"min\": 1,\n        \"max\": 10000,\n        \"num_unique_values\": 10000,\n        \"samples\": [\n          6253,\n          4685,\n          1732\n        ],\n        \"semantic_type\": \"\",\n        \"description\": \"\"\n      }\n    },\n    {\n      \"column\": \"Product ID\",\n      \"properties\": {\n        \"dtype\": \"string\",\n        \"num_unique_values\": 10000,\n        \"samples\": [\n          \"L53432\",\n          \"M19544\",\n          \"M16591\"\n        ],\n        \"semantic_type\": \"\",\n        \"description\": \"\"\n      }\n    },\n    {\n      \"column\": \"Type\",\n      \"properties\": {\n        \"dtype\": \"category\",\n        \"num_unique_values\": 3,\n        \"samples\": [\n          \"M\",\n          \"L\",\n          \"H\"\n        ],\n        \"semantic_type\": \"\",\n        \"description\": \"\"\n      }\n    },\n    {\n      \"column\": \"Air temperature [K]\",\n      \"properties\": {\n        \"dtype\": \"number\",\n        \"std\": 2.0002586829157574,\n        \"min\": 295.3,\n        \"max\": 304.5,\n        \"num_unique_values\": 93,\n        \"samples\": [\n          299.3,\n          296.9,\n          300.8\n        ],\n        \"semantic_type\": \"\",\n        \"description\": \"\"\n      }\n    },\n    {\n      \"column\": \"Process temperature [K]\",\n      \"properties\": {\n        \"dtype\": \"number\",\n        \"std\": 1.4837342191657419,\n        \"min\": 305.7,\n        \"max\": 313.8,\n        \"num_unique_values\": 82,\n        \"samples\": [\n          307.2,\n          308.6,\n          310.1\n        ],\n        \"semantic_type\": \"\",\n        \"description\": \"\"\n      }\n    },\n    {\n      \"column\": \"Rotational speed [rpm]\",\n      \"properties\": {\n        \"dtype\": \"number\",\n        \"std\": 179,\n        \"min\": 1168,\n        \"max\": 2886,\n        \"num_unique_values\": 941,\n        \"samples\": [\n          1274,\n          1576,\n          2010\n        ],\n        \"semantic_type\": \"\",\n        \"description\": \"\"\n      }\n    },\n    {\n      \"column\": \"Torque [Nm]\",\n      \"properties\": {\n        \"dtype\": \"number\",\n        \"std\": 9.968933725121401,\n        \"min\": 3.8,\n        \"max\": 76.6,\n        \"num_unique_values\": 577,\n        \"samples\": [\n          36.1,\n          65.9,\n          12.6\n        ],\n        \"semantic_type\": \"\",\n        \"description\": \"\"\n      }\n    },\n    {\n      \"column\": \"Tool wear [min]\",\n      \"properties\": {\n        \"dtype\": \"number\",\n        \"std\": 63,\n        \"min\": 0,\n        \"max\": 253,\n        \"num_unique_values\": 246,\n        \"samples\": [\n          93,\n          14,\n          215\n        ],\n        \"semantic_type\": \"\",\n        \"description\": \"\"\n      }\n    },\n    {\n      \"column\": \"Machine failure\",\n      \"properties\": {\n        \"dtype\": \"number\",\n        \"std\": 0,\n        \"min\": 0,\n        \"max\": 1,\n        \"num_unique_values\": 2,\n        \"samples\": [\n          1,\n          0\n        ],\n        \"semantic_type\": \"\",\n        \"description\": \"\"\n      }\n    },\n    {\n      \"column\": \"TWF\",\n      \"properties\": {\n        \"dtype\": \"number\",\n        \"std\": 0,\n        \"min\": 0,\n        \"max\": 1,\n        \"num_unique_values\": 2,\n        \"samples\": [\n          1,\n          0\n        ],\n        \"semantic_type\": \"\",\n        \"description\": \"\"\n      }\n    },\n    {\n      \"column\": \"HDF\",\n      \"properties\": {\n        \"dtype\": \"number\",\n        \"std\": 0,\n        \"min\": 0,\n        \"max\": 1,\n        \"num_unique_values\": 2,\n        \"samples\": [\n          1,\n          0\n        ],\n        \"semantic_type\": \"\",\n        \"description\": \"\"\n      }\n    },\n    {\n      \"column\": \"PWF\",\n      \"properties\": {\n        \"dtype\": \"number\",\n        \"std\": 0,\n        \"min\": 0,\n        \"max\": 1,\n        \"num_unique_values\": 2,\n        \"samples\": [\n          1,\n          0\n        ],\n        \"semantic_type\": \"\",\n        \"description\": \"\"\n      }\n    },\n    {\n      \"column\": \"OSF\",\n      \"properties\": {\n        \"dtype\": \"number\",\n        \"std\": 0,\n        \"min\": 0,\n        \"max\": 1,\n        \"num_unique_values\": 2,\n        \"samples\": [\n          1,\n          0\n        ],\n        \"semantic_type\": \"\",\n        \"description\": \"\"\n      }\n    },\n    {\n      \"column\": \"RNF\",\n      \"properties\": {\n        \"dtype\": \"number\",\n        \"std\": 0,\n        \"min\": 0,\n        \"max\": 1,\n        \"num_unique_values\": 2,\n        \"samples\": [\n          1,\n          0\n        ],\n        \"semantic_type\": \"\",\n        \"description\": \"\"\n      }\n    }\n  ]\n}"
            }
          },
          "metadata": {},
          "execution_count": 3
        }
      ]
    },
    {
      "cell_type": "code",
      "source": [
        "def add_text_to_bar_chart(text_list, bar):\n",
        "    i =0\n",
        "    for bar in chart:\n",
        "      plt.text(bar.get_x()+bar.get_width()/2, bar.get_height()+1, text_list[i], horizontalalignment=\"center\")\n",
        "      i +=1"
      ],
      "metadata": {
        "id": "-QSOQgthPpWH"
      },
      "execution_count": 4,
      "outputs": []
    },
    {
      "cell_type": "markdown",
      "source": [],
      "metadata": {
        "id": "vMzs6o5gSRJO"
      }
    },
    {
      "cell_type": "markdown",
      "source": [
        "**QUESTION:** Display the distribution of machine failures and non-failures with a bar graph."
      ],
      "metadata": {
        "id": "joQOXoqaD8JA"
      }
    },
    {
      "cell_type": "code",
      "source": [
        "machine_non_failure = data[data['Machine failure'] == 0]\n",
        "machine_failure = data[data['Machine failure'] == 1]\n",
        "\n",
        "chart = plt.bar([\"machine_failure\", \"Machine non failure\"], [len(machine_failure),len(machine_non_failure)], width=0.8)\n",
        "plt.title(\"Distribution of machine failures and non-failures\")\n",
        "plt.xlabel(\"Machine failure\")\n",
        "plt.ylabel(\"Number of machines\")\n",
        "plt.text(-0.2, 4000, \"Ratio : \" + str(round(100*len(machine_failure)/(len(machine_non_failure)+len(machine_failure)), 3)) + \"%\", fontsize=12, bbox=dict(boxstyle=\"round\",ec=(0, 0, 0),fc=(1., 0.8, 0.8)))\n",
        "\n",
        "add_text_to_bar_chart([len(machine_failure), len(machine_non_failure)], chart)"
      ],
      "metadata": {
        "id": "r3Q1l9JoMs7m",
        "colab": {
          "base_uri": "https://localhost:8080/",
          "height": 472
        },
        "outputId": "6d5f3a42-8368-487d-ac68-61b90d5c42a6"
      },
      "execution_count": 5,
      "outputs": [
        {
          "output_type": "display_data",
          "data": {
            "text/plain": [
              "<Figure size 640x480 with 1 Axes>"
            ],
            "image/png": "[encoded data removed]"
          },
          "metadata": {}
        }
      ]
    },
    {
      "cell_type": "markdown",
      "source": [
        "**ANALYSIS QUESTION:** What do you observe?"
      ],
      "metadata": {
        "id": "vCNIqXVyEkrR"
      }
    },
    {
      "cell_type": "markdown",
      "source": [
        "\"Write here your response\""
      ],
      "metadata": {
        "id": "6BMGtlIWE-C0"
      }
    },
    {
      "cell_type": "markdown",
      "source": [
        "**ANALYSIS QUESTION:** What will be the consequence of this phenomenon on the model's learning?"
      ],
      "metadata": {
        "id": "huU5I4x8SzlN"
      }
    },
    {
      "cell_type": "markdown",
      "source": [
        "\"Write here your response\""
      ],
      "metadata": {
        "id": "JHmYROP0TLIS"
      }
    },
    {
      "cell_type": "markdown",
      "source": [
        "**QUESTION:** Create a bar chart showing the distribution of different failure types (TWF, HDF, PWF, OSF, RNF). Display the exact values above each bar in the chart.\""
      ],
      "metadata": {
        "id": "0s-mzCCsSasl"
      }
    },
    {
      "cell_type": "code",
      "source": [
        "machine_TWF = data[data['TWF'] == 1]\n",
        "machine_HDF = data[data['HDF'] == 1]\n",
        "machine_PWF = data[data['PWF'] == 1]\n",
        "machine_OSF = data[data['OSF'] == 1]\n",
        "machine_RNF = data[data['RNF'] == 1]\n",
        "\n",
        "chart = plt.bar([\"TWF\", \"HDF\", \"PWF\", \"OSF\", \"RNF\"], [len(machine_TWF),len(machine_HDF), len(machine_PWF), len(machine_OSF), len(machine_RNF)], width=0.8)\n",
        "plt.title(\"Distribution of failure types\")\n",
        "plt.xlabel(\"Machine failure type\")\n",
        "plt.ylabel(\"Number of machines\")\n",
        "\n",
        "add_text_to_bar_chart([len(machine_TWF),len(machine_HDF), len(machine_PWF), len(machine_OSF), len(machine_RNF)], chart)"
      ],
      "metadata": {
        "id": "nQyJCfamMdJN",
        "colab": {
          "base_uri": "https://localhost:8080/",
          "height": 472
        },
        "outputId": "5fc05a1b-acb5-4341-a846-1eed760119fd"
      },
      "execution_count": 6,
      "outputs": [
        {
          "output_type": "display_data",
          "data": {
            "text/plain": [
              "<Figure size 640x480 with 1 Axes>"
            ],
            "image/png": "[encoded data removed]"
          },
          "metadata": {}
        }
      ]
    },
    {
      "cell_type": "markdown",
      "source": [
        "**ANALYSIS QUESTION:** What do you observe?"
      ],
      "metadata": {
        "id": "NXyHa73yU8g_"
      }
    },
    {
      "cell_type": "markdown",
      "source": [
        "\"Write here your response\""
      ],
      "metadata": {
        "id": "WRDFE_dsVBBU"
      }
    },
    {
      "cell_type": "markdown",
      "source": [
        "**QUESTION:** Create a bar chart showing the distribution of failure types (TWF, HDF, PWF, OSF, RNF) among machines that experienced a failure (Machine failure == 1). Additionally, add a \"No Specific Failure\" category to count cases where a machine failed but no specific failure type was recorded. Display the exact values above each bar in the chart.\""
      ],
      "metadata": {
        "id": "cvaO2bEIMxLd"
      }
    },
    {
      "cell_type": "code",
      "source": [
        "machine_TWF = data[data['Machine failure'] == 1]\n",
        "machine_TWF = machine_TWF[machine_TWF['TWF'] == 1]\n",
        "machine_HDF = data[data['Machine failure'] == 1]\n",
        "machine_HDF = machine_HDF[machine_HDF['HDF'] == 1]\n",
        "machine_PWF = data[data['Machine failure'] == 1]\n",
        "machine_PWF = machine_PWF[machine_PWF['PWF'] == 1]\n",
        "machine_OSF = data[data['Machine failure'] == 1]\n",
        "machine_OSF = machine_OSF[machine_OSF['OSF'] == 1]\n",
        "machine_RNF = data[data['Machine failure'] == 1]\n",
        "machine_RNF = machine_RNF[machine_RNF['RNF'] == 1]\n",
        "\n",
        "machine_no_specific_failure = data[data['Machine failure'] == 1]\n",
        "machine_no_specific_failure = machine_no_specific_failure[machine_no_specific_failure['TWF'] == 0]\n",
        "machine_no_specific_failure = machine_no_specific_failure[machine_no_specific_failure['HDF'] == 0]\n",
        "machine_no_specific_failure = machine_no_specific_failure[machine_no_specific_failure['PWF'] == 0]\n",
        "machine_no_specific_failure = machine_no_specific_failure[machine_no_specific_failure['OSF'] == 0]\n",
        "machine_no_specific_failure = machine_no_specific_failure[machine_no_specific_failure['RNF'] == 0]\n",
        "\n",
        "\n",
        "chart = plt.bar([\"TWF\", \"HDF\", \"PWF\", \"OSF\", \"RNF\", \"No Specific\"], [len(machine_TWF),len(machine_HDF), len(machine_PWF), len(machine_OSF), len(machine_RNF),len(machine_no_specific_failure)], width=0.8)\n",
        "plt.title(\"Distribution of failure types\")\n",
        "plt.xlabel(\"Machine failure type\")\n",
        "plt.ylabel(\"Number of machines\")\n",
        "\n",
        "add_text_to_bar_chart([len(machine_TWF),len(machine_HDF), len(machine_PWF), len(machine_OSF), len(machine_RNF), len(machine_no_specific_failure)], chart)"
      ],
      "metadata": {
        "id": "e97htGyyMsle",
        "colab": {
          "base_uri": "https://localhost:8080/",
          "height": 472
        },
        "outputId": "1bb29f63-5b13-4063-dcfc-216a74d09d8e"
      },
      "execution_count": 7,
      "outputs": [
        {
          "output_type": "display_data",
          "data": {
            "text/plain": [
              "<Figure size 640x480 with 1 Axes>"
            ],
            "image/png": "[encoded data removed]"
          },
          "metadata": {}
        }
      ]
    },
    {
      "cell_type": "markdown",
      "source": [
        "**ANALYSIS QUESTION:** What do you obsrve comapred to the previous question ? What can you conclude?"
      ],
      "metadata": {
        "id": "U6_3vAQCOUGb"
      }
    },
    {
      "cell_type": "markdown",
      "source": [
        "\"Write your response here\""
      ],
      "metadata": {
        "id": "i-6t7nqlOjMo"
      }
    },
    {
      "cell_type": "markdown",
      "source": [
        "**QUESTION:** Display the names of the different columns in the dataset with their respective data types."
      ],
      "metadata": {
        "id": "muXeS0eVVW6H"
      }
    },
    {
      "cell_type": "code",
      "source": [
        "columns_names = data.columns\n",
        "i = 0\n",
        "\n",
        "for column in columns_names:\n",
        "  print(f\"> Id : {i} | Name : {column} | Type : {data[column].dtype}\")\n",
        "  i +=1"
      ],
      "metadata": {
        "id": "pa9Tptu7nPMp",
        "colab": {
          "base_uri": "https://localhost:8080/"
        },
        "outputId": "4cffe859-ece3-4678-ab64-7bc7c374a1b4"
      },
      "execution_count": 8,
      "outputs": [
        {
          "output_type": "stream",
          "name": "stdout",
          "text": [
            "> Id : 0 | Name : UDI | Type : int64\n",
            "> Id : 1 | Name : Product ID | Type : object\n",
            "> Id : 2 | Name : Type | Type : object\n",
            "> Id : 3 | Name : Air temperature [K] | Type : float64\n",
            "> Id : 4 | Name : Process temperature [K] | Type : float64\n",
            "> Id : 5 | Name : Rotational speed [rpm] | Type : int64\n",
            "> Id : 6 | Name : Torque [Nm] | Type : float64\n",
            "> Id : 7 | Name : Tool wear [min] | Type : int64\n",
            "> Id : 8 | Name : Machine failure | Type : int64\n",
            "> Id : 9 | Name : TWF | Type : int64\n",
            "> Id : 10 | Name : HDF | Type : int64\n",
            "> Id : 11 | Name : PWF | Type : int64\n",
            "> Id : 12 | Name : OSF | Type : int64\n",
            "> Id : 13 | Name : RNF | Type : int64\n"
          ]
        }
      ]
    },
    {
      "cell_type": "markdown",
      "source": [
        "**ANALYSIS QUESTION:** To train the model, what will be the inputs and outputs (What are the names of the columns that you will use?)? Justify your response.\n",
        "Remember, you want to predict if the machine will fail, and if so, what kind of failure. You need to use previous results to jsurtify your response."
      ],
      "metadata": {
        "id": "cezua1bMVTCM"
      }
    },
    {
      "cell_type": "markdown",
      "source": [
        "6 entrées : Type, Air Temperature, Process Temperature, Rotational speed, Torque, Tool wear | 5 sorties -> Machine failure + Type"
      ],
      "metadata": {
        "id": "0gy8oDgxbjol"
      }
    },
    {
      "cell_type": "markdown",
      "source": [
        "## **2- Train model Without balancing the dataset**\n",
        "\n",
        "---\n",
        "\n"
      ],
      "metadata": {
        "id": "CFXLkBzTiafx"
      }
    },
    {
      "cell_type": "markdown",
      "source": [
        "In this section, you must build and train a model without rebalancing the dataset."
      ],
      "metadata": {
        "id": "plBeUOCKvVNU"
      }
    },
    {
      "cell_type": "markdown",
      "source": [
        "**QUESTION:** Create X_train, Y_train, X_test, and Y_test. How many elements are present in X_train, Y_train, X_test, and Y_test? (Print the values)"
      ],
      "metadata": {
        "id": "yj7CMqdVbxg2"
      }
    },
    {
      "cell_type": "code",
      "source": [
        "X = data.loc[:,'Air temperature [K]':'Tool wear [min]']\n",
        "\n",
        "Y = data.loc[:, 'Machine failure':'RNF']\n",
        "\n",
        "X_train, X_test, Y_train, Y_test = train_test_split(X, Y, test_size=0.30, random_state=42)\n",
        "\n",
        "print(f\"Shape X_train : {X_train.shape}\")\n",
        "print(f\"Shape X_train : {X_test.shape}\")\n",
        "print(f\"Shape X_train : {Y_train.shape}\")\n",
        "print(f\"Shape X_train : {Y_test.shape}\")"
      ],
      "metadata": {
        "colab": {
          "base_uri": "https://localhost:8080/"
        },
        "id": "aJ8Q5YIMflrU",
        "outputId": "809900e0-2571-4096-a76b-c4da7ab8cb12"
      },
      "execution_count": 9,
      "outputs": [
        {
          "output_type": "stream",
          "name": "stdout",
          "text": [
            "Shape X_train : (7000, 5)\n",
            "Shape X_train : (3000, 5)\n",
            "Shape X_train : (7000, 6)\n",
            "Shape X_train : (3000, 6)\n"
          ]
        }
      ]
    },
    {
      "cell_type": "markdown",
      "source": [
        "**QUESTION** Code below the model architecture"
      ],
      "metadata": {
        "id": "eqBuZsqKdQ7u"
      }
    },
    {
      "cell_type": "code",
      "source": [
        "inputs = tf.keras.Input(shape=(5,)) # INPUT layer\n",
        "x = tf.keras.layers.Flatten()(inputs)\n",
        "\n",
        "nb_layers = 2\n",
        "nb_neurons = [16,32] # Number of neurons per layer\n",
        "\n",
        "for i in range(nb_layers): # Layers\n",
        "  x = tf.keras.layers.Dense(nb_neurons[i], activation='relu')(x)\n",
        "\n",
        "outputs = tf.keras.layers.Dense(6, activation='softmax')(x) # OUTPUT layer with sofmax\n",
        "\n",
        "mlp_model = tf.keras.Model(inputs=inputs, outputs=outputs, name=\"mlp_model\") # Create model\n",
        "\n",
        "mlp_model.summary() # Display architecture\n",
        "\n",
        "mlp_model.compile(optimizer='adam', loss='categorical_crossentropy', metrics=['accuracy'])"
      ],
      "metadata": {
        "id": "F35j0VRDdNLc",
        "colab": {
          "base_uri": "https://localhost:8080/",
          "height": 706
        },
        "outputId": "20499af9-f896-44bd-d978-8428252bc952"
      },
      "execution_count": 13,
      "outputs": [
        {
          "output_type": "display_data",
          "data": {
            "text/plain": [
              "\u001b[1mModel: \"mlp_model\"\u001b[0m\n"
            ],
            "text/html": [
              "<pre style=\"white-space:pre;overflow-x:auto;line-height:normal;font-family:Menlo,'DejaVu Sans Mono',consolas,'Courier New',monospace\"><span style=\"font-weight: bold\">Model: \"mlp_model\"</span>\n",
              "</pre>\n"
            ]
          },
          "metadata": {}
        },
        {
          "output_type": "display_data",
          "data": {
            "text/plain": [
              "┏━━━━━━━━━━━━━━━━━━━━━━━━━━━━━━━━━━━━━━┳━━━━━━━━━━━━━━━━━━━━━━━━━━━━━┳━━━━━━━━━━━━━━━━━┓\n",
              "┃\u001b[1m \u001b[0m\u001b[1mLayer (type)                        \u001b[0m\u001b[1m \u001b[0m┃\u001b[1m \u001b[0m\u001b[1mOutput Shape               \u001b[0m\u001b[1m \u001b[0m┃\u001b[1m \u001b[0m\u001b[1m        Param #\u001b[0m\u001b[1m \u001b[0m┃\n",
              "┡━━━━━━━━━━━━━━━━━━━━━━━━━━━━━━━━━━━━━━╇━━━━━━━━━━━━━━━━━━━━━━━━━━━━━╇━━━━━━━━━━━━━━━━━┩\n",
              "│ input_layer_1 (\u001b[38;5;33mInputLayer\u001b[0m)           │ (\u001b[38;5;45mNone\u001b[0m, \u001b[38;5;34m5\u001b[0m)                   │               \u001b[38;5;34m0\u001b[0m │\n",
              "├──────────────────────────────────────┼─────────────────────────────┼─────────────────┤\n",
              "│ flatten_1 (\u001b[38;5;33mFlatten\u001b[0m)                  │ (\u001b[38;5;45mNone\u001b[0m, \u001b[38;5;34m5\u001b[0m)                   │               \u001b[38;5;34m0\u001b[0m │\n",
              "├──────────────────────────────────────┼─────────────────────────────┼─────────────────┤\n",
              "│ dense_3 (\u001b[38;5;33mDense\u001b[0m)                      │ (\u001b[38;5;45mNone\u001b[0m, \u001b[38;5;34m16\u001b[0m)                  │              \u001b[38;5;34m96\u001b[0m │\n",
              "├──────────────────────────────────────┼─────────────────────────────┼─────────────────┤\n",
              "│ dense_4 (\u001b[38;5;33mDense\u001b[0m)                      │ (\u001b[38;5;45mNone\u001b[0m, \u001b[38;5;34m32\u001b[0m)                  │             \u001b[38;5;34m544\u001b[0m │\n",
              "├──────────────────────────────────────┼─────────────────────────────┼─────────────────┤\n",
              "│ dense_5 (\u001b[38;5;33mDense\u001b[0m)                      │ (\u001b[38;5;45mNone\u001b[0m, \u001b[38;5;34m6\u001b[0m)                   │             \u001b[38;5;34m198\u001b[0m │\n",
              "└──────────────────────────────────────┴─────────────────────────────┴─────────────────┘\n"
            ],
            "text/html": [
              "<pre style=\"white-space:pre;overflow-x:auto;line-height:normal;font-family:Menlo,'DejaVu Sans Mono',consolas,'Courier New',monospace\">┏━━━━━━━━━━━━━━━━━━━━━━━━━━━━━━━━━━━━━━┳━━━━━━━━━━━━━━━━━━━━━━━━━━━━━┳━━━━━━━━━━━━━━━━━┓\n",
              "┃<span style=\"font-weight: bold\"> Layer (type)                         </span>┃<span style=\"font-weight: bold\"> Output Shape                </span>┃<span style=\"font-weight: bold\">         Param # </span>┃\n",
              "┡━━━━━━━━━━━━━━━━━━━━━━━━━━━━━━━━━━━━━━╇━━━━━━━━━━━━━━━━━━━━━━━━━━━━━╇━━━━━━━━━━━━━━━━━┩\n",
              "│ input_layer_1 (<span style=\"color: #0087ff; text-decoration-color: #0087ff\">InputLayer</span>)           │ (<span style=\"color: #00d7ff; text-decoration-color: #00d7ff\">None</span>, <span style=\"color: #00af00; text-decoration-color: #00af00\">5</span>)                   │               <span style=\"color: #00af00; text-decoration-color: #00af00\">0</span> │\n",
              "├──────────────────────────────────────┼─────────────────────────────┼─────────────────┤\n",
              "│ flatten_1 (<span style=\"color: #0087ff; text-decoration-color: #0087ff\">Flatten</span>)                  │ (<span style=\"color: #00d7ff; text-decoration-color: #00d7ff\">None</span>, <span style=\"color: #00af00; text-decoration-color: #00af00\">5</span>)                   │               <span style=\"color: #00af00; text-decoration-color: #00af00\">0</span> │\n",
              "├──────────────────────────────────────┼─────────────────────────────┼─────────────────┤\n",
              "│ dense_3 (<span style=\"color: #0087ff; text-decoration-color: #0087ff\">Dense</span>)                      │ (<span style=\"color: #00d7ff; text-decoration-color: #00d7ff\">None</span>, <span style=\"color: #00af00; text-decoration-color: #00af00\">16</span>)                  │              <span style=\"color: #00af00; text-decoration-color: #00af00\">96</span> │\n",
              "├──────────────────────────────────────┼─────────────────────────────┼─────────────────┤\n",
              "│ dense_4 (<span style=\"color: #0087ff; text-decoration-color: #0087ff\">Dense</span>)                      │ (<span style=\"color: #00d7ff; text-decoration-color: #00d7ff\">None</span>, <span style=\"color: #00af00; text-decoration-color: #00af00\">32</span>)                  │             <span style=\"color: #00af00; text-decoration-color: #00af00\">544</span> │\n",
              "├──────────────────────────────────────┼─────────────────────────────┼─────────────────┤\n",
              "│ dense_5 (<span style=\"color: #0087ff; text-decoration-color: #0087ff\">Dense</span>)                      │ (<span style=\"color: #00d7ff; text-decoration-color: #00d7ff\">None</span>, <span style=\"color: #00af00; text-decoration-color: #00af00\">6</span>)                   │             <span style=\"color: #00af00; text-decoration-color: #00af00\">198</span> │\n",
              "└──────────────────────────────────────┴─────────────────────────────┴─────────────────┘\n",
              "</pre>\n"
            ]
          },
          "metadata": {}
        },
        {
          "output_type": "display_data",
          "data": {
            "text/plain": [
              "\u001b[1m Total params: \u001b[0m\u001b[38;5;34m838\u001b[0m (3.27 KB)\n"
            ],
            "text/html": [
              "<pre style=\"white-space:pre;overflow-x:auto;line-height:normal;font-family:Menlo,'DejaVu Sans Mono',consolas,'Courier New',monospace\"><span style=\"font-weight: bold\"> Total params: </span><span style=\"color: #00af00; text-decoration-color: #00af00\">838</span> (3.27 KB)\n",
              "</pre>\n"
            ]
          },
          "metadata": {}
        },
        {
          "output_type": "display_data",
          "data": {
            "text/plain": [
              "\u001b[1m Trainable params: \u001b[0m\u001b[38;5;34m838\u001b[0m (3.27 KB)\n"
            ],
            "text/html": [
              "<pre style=\"white-space:pre;overflow-x:auto;line-height:normal;font-family:Menlo,'DejaVu Sans Mono',consolas,'Courier New',monospace\"><span style=\"font-weight: bold\"> Trainable params: </span><span style=\"color: #00af00; text-decoration-color: #00af00\">838</span> (3.27 KB)\n",
              "</pre>\n"
            ]
          },
          "metadata": {}
        },
        {
          "output_type": "display_data",
          "data": {
            "text/plain": [
              "\u001b[1m Non-trainable params: \u001b[0m\u001b[38;5;34m0\u001b[0m (0.00 B)\n"
            ],
            "text/html": [
              "<pre style=\"white-space:pre;overflow-x:auto;line-height:normal;font-family:Menlo,'DejaVu Sans Mono',consolas,'Courier New',monospace\"><span style=\"font-weight: bold\"> Non-trainable params: </span><span style=\"color: #00af00; text-decoration-color: #00af00\">0</span> (0.00 B)\n",
              "</pre>\n"
            ]
          },
          "metadata": {}
        },
        {
          "output_type": "stream",
          "name": "stdout",
          "text": [
            "Epoch 1/10\n",
            "\u001b[1m700/700\u001b[0m \u001b[32m━━━━━━━━━━━━━━━━━━━━\u001b[0m\u001b[37m\u001b[0m \u001b[1m5s\u001b[0m 5ms/step - accuracy: 0.1804 - loss: 4.1237 - val_accuracy: 0.0023 - val_loss: 34.1105\n",
            "Epoch 2/10\n",
            "\u001b[1m700/700\u001b[0m \u001b[32m━━━━━━━━━━━━━━━━━━━━\u001b[0m\u001b[37m\u001b[0m \u001b[1m2s\u001b[0m 3ms/step - accuracy: 0.2023 - loss: 26.4221 - val_accuracy: 0.0000e+00 - val_loss: 36.5276\n",
            "Epoch 3/10\n",
            "\u001b[1m700/700\u001b[0m \u001b[32m━━━━━━━━━━━━━━━━━━━━\u001b[0m\u001b[37m\u001b[0m \u001b[1m2s\u001b[0m 3ms/step - accuracy: 0.2017 - loss: 76.1409 - val_accuracy: 0.0000e+00 - val_loss: 108.4250\n",
            "Epoch 4/10\n",
            "\u001b[1m700/700\u001b[0m \u001b[32m━━━━━━━━━━━━━━━━━━━━\u001b[0m\u001b[37m\u001b[0m \u001b[1m2s\u001b[0m 2ms/step - accuracy: 0.1961 - loss: 120.0874 - val_accuracy: 0.0000e+00 - val_loss: 169.1787\n",
            "Epoch 5/10\n",
            "\u001b[1m700/700\u001b[0m \u001b[32m━━━━━━━━━━━━━━━━━━━━\u001b[0m\u001b[37m\u001b[0m \u001b[1m1s\u001b[0m 2ms/step - accuracy: 0.2093 - loss: 229.6813 - val_accuracy: 0.0000e+00 - val_loss: 326.2672\n",
            "Epoch 6/10\n",
            "\u001b[1m700/700\u001b[0m \u001b[32m━━━━━━━━━━━━━━━━━━━━\u001b[0m\u001b[37m\u001b[0m \u001b[1m3s\u001b[0m 2ms/step - accuracy: 0.1975 - loss: 320.2305 - val_accuracy: 0.0000e+00 - val_loss: 305.6033\n",
            "Epoch 7/10\n",
            "\u001b[1m700/700\u001b[0m \u001b[32m━━━━━━━━━━━━━━━━━━━━\u001b[0m\u001b[37m\u001b[0m \u001b[1m2s\u001b[0m 3ms/step - accuracy: 0.1974 - loss: 497.1423 - val_accuracy: 0.0000e+00 - val_loss: 352.0080\n",
            "Epoch 8/10\n",
            "\u001b[1m700/700\u001b[0m \u001b[32m━━━━━━━━━━━━━━━━━━━━\u001b[0m\u001b[37m\u001b[0m \u001b[1m2s\u001b[0m 3ms/step - accuracy: 0.1988 - loss: 492.4328 - val_accuracy: 0.0023 - val_loss: 1148.3906\n",
            "Epoch 9/10\n",
            "\u001b[1m700/700\u001b[0m \u001b[32m━━━━━━━━━━━━━━━━━━━━\u001b[0m\u001b[37m\u001b[0m \u001b[1m2s\u001b[0m 2ms/step - accuracy: 0.1934 - loss: 517.9458 - val_accuracy: 0.0000e+00 - val_loss: 198.2053\n",
            "Epoch 10/10\n",
            "\u001b[1m700/700\u001b[0m \u001b[32m━━━━━━━━━━━━━━━━━━━━\u001b[0m\u001b[37m\u001b[0m \u001b[1m2s\u001b[0m 2ms/step - accuracy: 0.2032 - loss: 654.3115 - val_accuracy: 0.9977 - val_loss: 461.5600\n",
            "\u001b[1m700/700\u001b[0m \u001b[32m━━━━━━━━━━━━━━━━━━━━\u001b[0m\u001b[37m\u001b[0m \u001b[1m1s\u001b[0m 1ms/step - accuracy: 0.9980 - loss: 482.4292\n",
            "\u001b[1m300/300\u001b[0m \u001b[32m━━━━━━━━━━━━━━━━━━━━\u001b[0m\u001b[37m\u001b[0m \u001b[1m0s\u001b[0m 1ms/step - accuracy: 0.9983 - loss: 514.4630\n",
            "Performance on the TRAIN set, ACCURACY= 0.9984285831451416\n",
            "Performance on the TEST set, ACCURACY= 0.9976666569709778\n"
          ]
        }
      ]
    },
    {
      "cell_type": "markdown",
      "source": [
        "**QUESTION** Code below the algorithms allowing to train model\n",
        "\n",
        "**WARNING!** You need to plot the training and test accuracy and loss to check if our model is overfitting"
      ],
      "metadata": {
        "id": "dIONoP2Jdg8Q"
      }
    },
    {
      "cell_type": "code",
      "source": [
        "# Training model\n",
        "nb_epochs=10\n",
        "batch_size=10\n",
        "training_history = mlp_model.fit(X_train,Y_train,validation_data=(X_test, Y_test),epochs=nb_epochs,batch_size=batch_size)\n",
        "\n",
        "# Accuracy\n",
        "loss_train, acc_train = mlp_model.evaluate(X_train, Y_train, batch_size=batch_size)\n",
        "loss_test, acc_test = mlp_model.evaluate(X_test, Y_test, batch_size=batch_size)\n",
        "\n",
        "print(\"Performance on the TRAIN set, ACCURACY=\",acc_train)\n",
        "print(\"Performance on the TEST set, ACCURACY=\",acc_test)"
      ],
      "metadata": {
        "colab": {
          "base_uri": "https://localhost:8080/"
        },
        "id": "A1C-2vI-kgPo",
        "outputId": "29f81785-6a53-4d84-8bb2-b9004f907102"
      },
      "execution_count": 24,
      "outputs": [
        {
          "output_type": "stream",
          "name": "stdout",
          "text": [
            "Epoch 1/10\n",
            "\u001b[1m700/700\u001b[0m \u001b[32m━━━━━━━━━━━━━━━━━━━━\u001b[0m\u001b[37m\u001b[0m \u001b[1m2s\u001b[0m 2ms/step - accuracy: 0.2039 - loss: 2937.9197 - val_accuracy: 0.0023 - val_loss: 2017.9200\n",
            "Epoch 2/10\n",
            "\u001b[1m700/700\u001b[0m \u001b[32m━━━━━━━━━━━━━━━━━━━━\u001b[0m\u001b[37m\u001b[0m \u001b[1m2s\u001b[0m 2ms/step - accuracy: 0.1982 - loss: 2993.3232 - val_accuracy: 0.0000e+00 - val_loss: 4561.4292\n",
            "Epoch 3/10\n",
            "\u001b[1m700/700\u001b[0m \u001b[32m━━━━━━━━━━━━━━━━━━━━\u001b[0m\u001b[37m\u001b[0m \u001b[1m3s\u001b[0m 3ms/step - accuracy: 0.2046 - loss: 2341.1484 - val_accuracy: 0.9977 - val_loss: 1383.3386\n",
            "Epoch 4/10\n",
            "\u001b[1m700/700\u001b[0m \u001b[32m━━━━━━━━━━━━━━━━━━━━\u001b[0m\u001b[37m\u001b[0m \u001b[1m3s\u001b[0m 3ms/step - accuracy: 0.2071 - loss: 2920.2256 - val_accuracy: 0.0023 - val_loss: 5269.6108\n",
            "Epoch 5/10\n",
            "\u001b[1m700/700\u001b[0m \u001b[32m━━━━━━━━━━━━━━━━━━━━\u001b[0m\u001b[37m\u001b[0m \u001b[1m2s\u001b[0m 3ms/step - accuracy: 0.1973 - loss: 3023.5186 - val_accuracy: 0.0000e+00 - val_loss: 3689.6641\n",
            "Epoch 6/10\n",
            "\u001b[1m700/700\u001b[0m \u001b[32m━━━━━━━━━━━━━━━━━━━━\u001b[0m\u001b[37m\u001b[0m \u001b[1m3s\u001b[0m 3ms/step - accuracy: 0.1941 - loss: 3558.9631 - val_accuracy: 0.0000e+00 - val_loss: 1791.0826\n",
            "Epoch 7/10\n",
            "\u001b[1m700/700\u001b[0m \u001b[32m━━━━━━━━━━━━━━━━━━━━\u001b[0m\u001b[37m\u001b[0m \u001b[1m2s\u001b[0m 2ms/step - accuracy: 0.2057 - loss: 3319.9229 - val_accuracy: 0.0000e+00 - val_loss: 6370.9868\n",
            "Epoch 8/10\n",
            "\u001b[1m700/700\u001b[0m \u001b[32m━━━━━━━━━━━━━━━━━━━━\u001b[0m\u001b[37m\u001b[0m \u001b[1m2s\u001b[0m 3ms/step - accuracy: 0.2044 - loss: 3910.2139 - val_accuracy: 0.0000e+00 - val_loss: 3347.3706\n",
            "Epoch 9/10\n",
            "\u001b[1m700/700\u001b[0m \u001b[32m━━━━━━━━━━━━━━━━━━━━\u001b[0m\u001b[37m\u001b[0m \u001b[1m4s\u001b[0m 4ms/step - accuracy: 0.2077 - loss: 3624.8596 - val_accuracy: 0.0023 - val_loss: 7378.9014\n",
            "Epoch 10/10\n",
            "\u001b[1m700/700\u001b[0m \u001b[32m━━━━━━━━━━━━━━━━━━━━\u001b[0m\u001b[37m\u001b[0m \u001b[1m3s\u001b[0m 2ms/step - accuracy: 0.1974 - loss: 4452.3145 - val_accuracy: 0.9977 - val_loss: 3591.8506\n",
            "\u001b[1m700/700\u001b[0m \u001b[32m━━━━━━━━━━━━━━━━━━━━\u001b[0m\u001b[37m\u001b[0m \u001b[1m1s\u001b[0m 1ms/step - accuracy: 0.9980 - loss: 4646.7651\n",
            "\u001b[1m300/300\u001b[0m \u001b[32m━━━━━━━━━━━━━━━━━━━━\u001b[0m\u001b[37m\u001b[0m \u001b[1m0s\u001b[0m 1ms/step - accuracy: 0.9983 - loss: 3722.3130\n",
            "Performance on the TRAIN set, ACCURACY= 0.9984285831451416\n",
            "Performance on the TEST set, ACCURACY= 0.9976666569709778\n"
          ]
        }
      ]
    },
    {
      "cell_type": "markdown",
      "source": [
        "**QUESTION** Plot the confusion matrix and the classification report"
      ],
      "metadata": {
        "id": "yvmyHnqYpbf-"
      }
    },
    {
      "cell_type": "markdown",
      "source": [
        "**Tips:**\n",
        "\n",
        "*   classification report link\n",
        "\n",
        "> https://scikit-learn.org/stable/modules/generated/sklearn.metrics.classification_report.html\n",
        "\n",
        "*   Matrix confusion\n",
        "\n",
        "> https://scikit-learn.org/stable/modules/generated/sklearn.metrics.ConfusionMatrixDisplay.html\n",
        "\n",
        "\n",
        "\n"
      ],
      "metadata": {
        "id": "FUXSeJ1ZpsSP"
      }
    },
    {
      "cell_type": "code",
      "source": [
        "predictions = mlp_model.predict(X_test)\n",
        "predictions = np.argmax(predictions, axis=1)\n",
        "Y_test = np.argmax(Y_test.values, axis=1)\n",
        "\n",
        "confusion_matrix_1 = confusion_matrix(predictions,Y_test)\n",
        "disp = ConfusionMatrixDisplay(confusion_matrix=confusion_matrix_1)\n",
        "disp.plot()"
      ],
      "metadata": {
        "id": "m4q5wvHNnAdu",
        "colab": {
          "base_uri": "https://localhost:8080/",
          "height": 484
        },
        "outputId": "5dc34b3d-0904-48ca-e5b4-745d8801625d"
      },
      "execution_count": 36,
      "outputs": [
        {
          "output_type": "stream",
          "name": "stdout",
          "text": [
            "\u001b[1m94/94\u001b[0m \u001b[32m━━━━━━━━━━━━━━━━━━━━\u001b[0m\u001b[37m\u001b[0m \u001b[1m0s\u001b[0m 2ms/step\n"
          ]
        },
        {
          "output_type": "execute_result",
          "data": {
            "text/plain": [
              "<sklearn.metrics._plot.confusion_matrix.ConfusionMatrixDisplay at 0x7e1613d9b5d0>"
            ]
          },
          "metadata": {},
          "execution_count": 36
        },
        {
          "output_type": "display_data",
          "data": {
            "text/plain": [
              "<Figure size 640x480 with 2 Axes>"
            ],
            "image/png": "[encoded data removed]"
          },
          "metadata": {}
        }
      ]
    },
    {
      "cell_type": "markdown",
      "source": [
        "**ANALYSIS QUESTION** What do you observe? What can you conclude?"
      ],
      "metadata": {
        "id": "ImGsmryGkKhj"
      }
    },
    {
      "cell_type": "markdown",
      "source": [
        "\"Write your response here\""
      ],
      "metadata": {
        "id": "y1f5OneQknZy"
      }
    },
    {
      "cell_type": "markdown",
      "source": [
        "## **3- Train model With balancing the dataset**\n",
        "\n",
        "---"
      ],
      "metadata": {
        "id": "EYUyUAN5ji0x"
      }
    },
    {
      "cell_type": "markdown",
      "source": [
        " Methods for rebalancing a dataset:\n",
        "\n",
        "\n",
        "*   Use oversampling techniques (e.g., SMOTE) to generate synthetic data for minority classes\n",
        "\n",
        "\n",
        "> https://imbalanced-learn.org/stable/references/generated/imblearn.over_sampling.SMOTE.html\n",
        "\n",
        "\n",
        "\n",
        "*   Apply undersampling techniques (e.g., random undersampling, Tomek Links, Edited Nearest Neighbors) to reduce the majority class size\n",
        "\n",
        "\n",
        "\n",
        "> https://imbalanced-learn.org/stable/references/generated/imblearn.under_sampling.RandomUnderSampler.html\n",
        "\n",
        "\n",
        "\n",
        "*   Use class weighting during model training to penalize errors on minority classes\n",
        "\n",
        "\n",
        "\n",
        "> https://www.tensorflow.org/tutorials/structured_data/imbalanced_data?hl=fr\n"
      ],
      "metadata": {
        "id": "EQWut50JhKdD"
      }
    },
    {
      "cell_type": "markdown",
      "source": [
        "**QUESTION:** Create X_train, Y_train, X_test, and Y_test. How many elements are present in X_train, Y_train, X_test, and Y_test? (Print the values)"
      ],
      "metadata": {
        "id": "--pWJzaUnXdY"
      }
    },
    {
      "cell_type": "code",
      "source": [],
      "metadata": {
        "id": "aLW74cwbdr1U"
      },
      "execution_count": 12,
      "outputs": []
    },
    {
      "cell_type": "markdown",
      "source": [
        "**ANALYSIS QUESTION:** Explain the choices you made to balance the dataset."
      ],
      "metadata": {
        "id": "-YcZXIadnbcm"
      }
    },
    {
      "cell_type": "markdown",
      "source": [
        "\"Write your response here\""
      ],
      "metadata": {
        "id": "Rku3pnWxnxhI"
      }
    },
    {
      "cell_type": "markdown",
      "source": [
        "**QUESTION:** Code below the model architecture\n"
      ],
      "metadata": {
        "id": "BVryPCQFn4Dd"
      }
    },
    {
      "cell_type": "markdown",
      "source": [
        "**TIP:** It could be interesting to keep it the same as before"
      ],
      "metadata": {
        "id": "Q5BGfI7TpVDD"
      }
    },
    {
      "cell_type": "code",
      "source": [],
      "metadata": {
        "id": "S0UbMHN6OC51"
      },
      "execution_count": 12,
      "outputs": []
    },
    {
      "cell_type": "markdown",
      "source": [
        "**QUESTION** Code below the algorithms allowing to train model\n"
      ],
      "metadata": {
        "id": "wBZyS7DdofFq"
      }
    },
    {
      "cell_type": "code",
      "source": [],
      "metadata": {
        "id": "my6Ck5JbMDOG"
      },
      "execution_count": 12,
      "outputs": []
    },
    {
      "cell_type": "markdown",
      "source": [
        "**QUESTION** Plot the confusion matrix and the classification report"
      ],
      "metadata": {
        "id": "77ftkfv5oqp0"
      }
    },
    {
      "cell_type": "code",
      "source": [],
      "metadata": {
        "id": "kRmkOI_co5d9"
      },
      "execution_count": 12,
      "outputs": []
    },
    {
      "cell_type": "markdown",
      "source": [
        "**ANALYSIS QUESTION** What do you observe? What can you conclude?"
      ],
      "metadata": {
        "id": "Zn5BBAI3pHXf"
      }
    },
    {
      "cell_type": "markdown",
      "source": [
        "\"Write your response here\""
      ],
      "metadata": {
        "id": "SIf8rfU9pIGd"
      }
    }
  ]
}